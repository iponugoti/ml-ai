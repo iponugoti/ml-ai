{
 "cells": [
  {
   "cell_type": "markdown",
   "id": "2bae82a9-d828-4778-866f-bb33846c12db",
   "metadata": {
    "id": "2bae82a9-d828-4778-866f-bb33846c12db"
   },
   "source": [
    "# Project 2: Perception of AI Innovation Across Industries\n",
    "## Econ 1680: MLTA and Econ\n",
    "\n",
    "#### Name: Isha Ponugoti"
   ]
  },
  {
   "cell_type": "markdown",
   "id": "d08c1a07",
   "metadata": {},
   "source": [
    "## II. Descriptive Analysis\n",
    "Next, I go through the key variables that I will use throughout my methods section and display some summary statistics to start my analysis."
   ]
  },
  {
   "cell_type": "code",
   "execution_count": 1,
   "id": "033393dc-a223-4d56-a609-d18f0c64a413",
   "metadata": {
    "colab": {
     "base_uri": "https://localhost:8080/",
     "height": 393
    },
    "executionInfo": {
     "elapsed": 7,
     "status": "error",
     "timestamp": 1707436964131,
     "user": {
      "displayName": "Isha Ponugoti",
      "userId": "15196846044135942898"
     },
     "user_tz": 300
    },
    "id": "033393dc-a223-4d56-a609-d18f0c64a413",
    "outputId": "5202633a-fafb-45b0-94ba-d5418d25406b"
   },
   "outputs": [],
   "source": [
    "import pandas as pd\n",
    "import numpy as np\n",
    "import matplotlib.pyplot as plt\n",
    "%matplotlib inline\n",
    "import os\n",
    "import csv\n",
    "\n",
    "import random\n",
    "import statsmodels.api as sm\n",
    "from statsmodels.iolib.summary2 import summary_col\n",
    "from math import sqrt\n",
    "\n",
    "from sklearn.model_selection import train_test_split\n",
    "from sklearn.model_selection import GridSearchCV\n",
    "from sklearn.metrics import mean_squared_error\n",
    "from sklearn.linear_model import Lasso, LassoCV\n",
    "from sklearn.linear_model import Ridge, RidgeCV\n",
    "from sklearn.preprocessing import normalize\n",
    "import scipy.cluster.hierarchy as shc\n",
    "from sklearn.cluster import AgglomerativeClustering\n",
    "from sklearn.cluster import KMeans\n",
    "from sklearn.decomposition import PCA\n",
    "\n",
    "from sklearn.linear_model import LogisticRegression\n",
    "from sklearn.linear_model import LinearRegression\n",
    "from sklearn.metrics import classification_report, confusion_matrix\n",
    "from sklearn.neural_network import MLPClassifier\n",
    "from sklearn.metrics import accuracy_score\n",
    "from sklearn.preprocessing import StandardScaler\n",
    "from sklearn.pipeline import make_pipeline\n",
    "\n",
    "import time"
   ]
  },
  {
   "cell_type": "markdown",
   "id": "fbde4a79",
   "metadata": {},
   "source": [
    "First, I import the dataframe that I made."
   ]
  },
  {
   "cell_type": "code",
   "execution_count": 2,
   "id": "828214eb",
   "metadata": {},
   "outputs": [],
   "source": [
    "df = pd.read_csv('techcrunch_articles.csv')"
   ]
  },
  {
   "cell_type": "code",
   "execution_count": 4,
   "id": "3f4fbeb6",
   "metadata": {},
   "outputs": [
    {
     "name": "stdout",
     "output_type": "stream",
     "text": [
      "Other                           538\n",
      "Technology                      218\n",
      "Media/Entertainment              97\n",
      "Finance                          63\n",
      "Education                        58\n",
      "Healthcare                       23\n",
      "Logistics and Transportation      8\n",
      "Name: Industry, dtype: int64\n"
     ]
    }
   ],
   "source": [
    "industry_counts = df['Industry'].value_counts()\n",
    "print(industry_counts)"
   ]
  },
  {
   "cell_type": "markdown",
   "id": "0b55aa85",
   "metadata": {},
   "source": [
    "Preview of my DataFrame:"
   ]
  },
  {
   "cell_type": "code",
   "execution_count": 7,
   "id": "745f821a",
   "metadata": {},
   "outputs": [
    {
     "data": {
      "text/html": [
       "<div>\n",
       "<style scoped>\n",
       "    .dataframe tbody tr th:only-of-type {\n",
       "        vertical-align: middle;\n",
       "    }\n",
       "\n",
       "    .dataframe tbody tr th {\n",
       "        vertical-align: top;\n",
       "    }\n",
       "\n",
       "    .dataframe thead th {\n",
       "        text-align: right;\n",
       "    }\n",
       "</style>\n",
       "<table border=\"1\" class=\"dataframe\">\n",
       "  <thead>\n",
       "    <tr style=\"text-align: right;\">\n",
       "      <th></th>\n",
       "      <th>Title</th>\n",
       "      <th>Content</th>\n",
       "      <th>URL</th>\n",
       "      <th>Date</th>\n",
       "      <th>tags</th>\n",
       "      <th>Industry</th>\n",
       "    </tr>\n",
       "  </thead>\n",
       "  <tbody>\n",
       "    <tr>\n",
       "      <th>0</th>\n",
       "      <td>What we’ve learned from the women behind the A...</td>\n",
       "      <td>The AI boom, love it or find it to be a bit mo...</td>\n",
       "      <td>/2024/04/06/what-weve-learned-from-the-women-b...</td>\n",
       "      <td>02:05 PM EDT April 06, 2024</td>\n",
       "      <td>['AI policy', 'AI startups', 'Equity podcast',...</td>\n",
       "      <td>Healthcare</td>\n",
       "    </tr>\n",
       "    <tr>\n",
       "      <th>1</th>\n",
       "      <td>Sundar Pichai on the challenge of innovating i...</td>\n",
       "      <td>It was a notable appearance because Pichai’s b...</td>\n",
       "      <td>/2024/04/05/sundar-pichai-on-the-challenge-of-...</td>\n",
       "      <td>05:59 PM EDT April 05, 2024</td>\n",
       "      <td>['Alphabet', 'artificial intelligence', 'Googl...</td>\n",
       "      <td>Other</td>\n",
       "    </tr>\n",
       "    <tr>\n",
       "      <th>2</th>\n",
       "      <td>Meta’s new AI deepfake playbook: More labels, ...</td>\n",
       "      <td>Meta has announced changes to its rules on AI-...</td>\n",
       "      <td>/2024/04/05/meta-deepfake-labels/</td>\n",
       "      <td>05:29 PM EDT April 05, 2024</td>\n",
       "      <td>['meta deepfake and manipulated media policy']</td>\n",
       "      <td>Media/Entertainment</td>\n",
       "    </tr>\n",
       "    <tr>\n",
       "      <th>3</th>\n",
       "      <td>TechCrunch Minute: YC Demo Day’s biggest showc...</td>\n",
       "      <td>Well-known startup accelerator Y Combinator he...</td>\n",
       "      <td>/2024/04/05/techcrunch-minute-ycs-demo-day-hig...</td>\n",
       "      <td>04:00 PM EDT April 05, 2024</td>\n",
       "      <td>['AI', 'Startups', 'the techcrunch minute', 'Y...</td>\n",
       "      <td>Other</td>\n",
       "    </tr>\n",
       "    <tr>\n",
       "      <th>4</th>\n",
       "      <td>Rubrik’s IPO filing reveals an AI governance c...</td>\n",
       "      <td>Rubrik, the data management company that filed...</td>\n",
       "      <td>/2024/04/05/rubrik-ai-governance-committee/</td>\n",
       "      <td>01:41 PM EDT April 05, 2024</td>\n",
       "      <td>['AI governance', 'EU AI Act', 'onetrust', 'Ru...</td>\n",
       "      <td>Technology</td>\n",
       "    </tr>\n",
       "  </tbody>\n",
       "</table>\n",
       "</div>"
      ],
      "text/plain": [
       "                                               Title  \\\n",
       "0  What we’ve learned from the women behind the A...   \n",
       "1  Sundar Pichai on the challenge of innovating i...   \n",
       "2  Meta’s new AI deepfake playbook: More labels, ...   \n",
       "3  TechCrunch Minute: YC Demo Day’s biggest showc...   \n",
       "4  Rubrik’s IPO filing reveals an AI governance c...   \n",
       "\n",
       "                                             Content  \\\n",
       "0  The AI boom, love it or find it to be a bit mo...   \n",
       "1  It was a notable appearance because Pichai’s b...   \n",
       "2  Meta has announced changes to its rules on AI-...   \n",
       "3  Well-known startup accelerator Y Combinator he...   \n",
       "4  Rubrik, the data management company that filed...   \n",
       "\n",
       "                                                 URL  \\\n",
       "0  /2024/04/06/what-weve-learned-from-the-women-b...   \n",
       "1  /2024/04/05/sundar-pichai-on-the-challenge-of-...   \n",
       "2                  /2024/04/05/meta-deepfake-labels/   \n",
       "3  /2024/04/05/techcrunch-minute-ycs-demo-day-hig...   \n",
       "4        /2024/04/05/rubrik-ai-governance-committee/   \n",
       "\n",
       "                          Date  \\\n",
       "0  02:05 PM EDT April 06, 2024   \n",
       "1  05:59 PM EDT April 05, 2024   \n",
       "2  05:29 PM EDT April 05, 2024   \n",
       "3  04:00 PM EDT April 05, 2024   \n",
       "4  01:41 PM EDT April 05, 2024   \n",
       "\n",
       "                                                tags             Industry  \n",
       "0  ['AI policy', 'AI startups', 'Equity podcast',...           Healthcare  \n",
       "1  ['Alphabet', 'artificial intelligence', 'Googl...                Other  \n",
       "2     ['meta deepfake and manipulated media policy']  Media/Entertainment  \n",
       "3  ['AI', 'Startups', 'the techcrunch minute', 'Y...                Other  \n",
       "4  ['AI governance', 'EU AI Act', 'onetrust', 'Ru...           Technology  "
      ]
     },
     "execution_count": 7,
     "metadata": {},
     "output_type": "execute_result"
    }
   ],
   "source": [
    "df.head()"
   ]
  },
  {
   "cell_type": "markdown",
   "id": "915f73b8",
   "metadata": {},
   "source": [
    "Here is the range of dates I use in my analysis: "
   ]
  },
  {
   "cell_type": "code",
   "execution_count": 10,
   "id": "815014b6",
   "metadata": {},
   "outputs": [
    {
     "name": "stdout",
     "output_type": "stream",
     "text": [
      "0   2024-04-06 14:05:00\n",
      "1   2024-04-05 17:59:00\n",
      "2   2024-04-05 17:29:00\n",
      "3   2024-04-05 16:00:00\n",
      "4   2024-04-05 13:41:00\n",
      "Name: DateTime, dtype: datetime64[ns]\n"
     ]
    }
   ],
   "source": [
    "# change date format for easier parsing\n",
    "df['DateTime'] = pd.to_datetime(df['Date'], format='%I:%M %p EDT %B %d, %Y')\n",
    "\n",
    "# check the conversion\n",
    "print(df['DateTime'].head())"
   ]
  },
  {
   "cell_type": "code",
   "execution_count": 11,
   "id": "8c8daa4d",
   "metadata": {},
   "outputs": [
    {
     "name": "stdout",
     "output_type": "stream",
     "text": [
      "Date range: 2023-04-03 23:05:00 to 2024-04-06 14:05:00\n"
     ]
    }
   ],
   "source": [
    "# print the date range\n",
    "date_range_start = df['DateTime'].min()\n",
    "date_range_end = df['DateTime'].max()\n",
    "\n",
    "print(f\"Date range: {date_range_start} to {date_range_end}\")"
   ]
  },
  {
   "cell_type": "markdown",
   "id": "9e2be80f",
   "metadata": {},
   "source": [
    "I look at articles 1005 articles between April 3rd and 5th."
   ]
  },
  {
   "cell_type": "code",
   "execution_count": 12,
   "id": "70ed09a1",
   "metadata": {},
   "outputs": [
    {
     "name": "stderr",
     "output_type": "stream",
     "text": [
      "[nltk_data] Downloading package punkt to\n",
      "[nltk_data]     /Users/ishaponugoti/nltk_data...\n",
      "[nltk_data]   Package punkt is already up-to-date!\n",
      "[nltk_data] Downloading package stopwords to\n",
      "[nltk_data]     /Users/ishaponugoti/nltk_data...\n",
      "[nltk_data]   Package stopwords is already up-to-date!\n"
     ]
    },
    {
     "data": {
      "text/plain": [
       "True"
      ]
     },
     "execution_count": 12,
     "metadata": {},
     "output_type": "execute_result"
    }
   ],
   "source": [
    "from nltk.corpus import stopwords\n",
    "from nltk.tokenize import word_tokenize\n",
    "import nltk\n",
    "nltk.download('punkt')\n",
    "nltk.download('stopwords')"
   ]
  },
  {
   "cell_type": "code",
   "execution_count": 13,
   "id": "b3ab01eb",
   "metadata": {},
   "outputs": [
    {
     "name": "stdout",
     "output_type": "stream",
     "text": [
      "Most common words: [('ai', 706), ('generative', 202), ('today', 202), ('new', 201), ('announced', 181), ('company', 157), ('google', 139), ('startup', 139), ('openai', 120), ('million', 92)]\n"
     ]
    }
   ],
   "source": [
    "stop_words = set(stopwords.words('english'))\n",
    "\n",
    "def most_common_words(content):\n",
    "    word_tokens = word_tokenize(content.lower())\n",
    "    filtered_content = [w for w in word_tokens if not w in stop_words and w.isalpha()]\n",
    "    return filtered_content\n",
    "\n",
    "all_words = df['Content'].apply(most_common_words).sum() # Concatenate all lists\n",
    "words_frequency = nltk.FreqDist(all_words)\n",
    "\n",
    "print(\"Most common words:\", words_frequency.most_common(10))"
   ]
  },
  {
   "cell_type": "code",
   "execution_count": 14,
   "id": "6cdf8dac",
   "metadata": {
    "scrolled": true
   },
   "outputs": [
    {
     "name": "stderr",
     "output_type": "stream",
     "text": [
      "/var/folders/12/hm8g859d3ml7f4vx9905_51m0000gn/T/ipykernel_9349/2884002236.py:1: FutureWarning: Treating datetime data as categorical rather than numeric in `.describe` is deprecated and will be removed in a future version of pandas. Specify `datetime_is_numeric=True` to silence this warning and adopt the future behavior now.\n",
      "  df.describe(include='all')\n"
     ]
    },
    {
     "data": {
      "text/html": [
       "<div>\n",
       "<style scoped>\n",
       "    .dataframe tbody tr th:only-of-type {\n",
       "        vertical-align: middle;\n",
       "    }\n",
       "\n",
       "    .dataframe tbody tr th {\n",
       "        vertical-align: top;\n",
       "    }\n",
       "\n",
       "    .dataframe thead th {\n",
       "        text-align: right;\n",
       "    }\n",
       "</style>\n",
       "<table border=\"1\" class=\"dataframe\">\n",
       "  <thead>\n",
       "    <tr style=\"text-align: right;\">\n",
       "      <th></th>\n",
       "      <th>Title</th>\n",
       "      <th>Content</th>\n",
       "      <th>URL</th>\n",
       "      <th>Date</th>\n",
       "      <th>tags</th>\n",
       "      <th>Industry</th>\n",
       "      <th>DateTime</th>\n",
       "    </tr>\n",
       "  </thead>\n",
       "  <tbody>\n",
       "    <tr>\n",
       "      <th>count</th>\n",
       "      <td>1005</td>\n",
       "      <td>1005</td>\n",
       "      <td>1005</td>\n",
       "      <td>1005</td>\n",
       "      <td>1005</td>\n",
       "      <td>1005</td>\n",
       "      <td>1005</td>\n",
       "    </tr>\n",
       "    <tr>\n",
       "      <th>unique</th>\n",
       "      <td>1005</td>\n",
       "      <td>996</td>\n",
       "      <td>1005</td>\n",
       "      <td>927</td>\n",
       "      <td>975</td>\n",
       "      <td>7</td>\n",
       "      <td>927</td>\n",
       "    </tr>\n",
       "    <tr>\n",
       "      <th>top</th>\n",
       "      <td>What we’ve learned from the women behind the A...</td>\n",
       "      <td>Keeping up with an industry as fast-moving as ...</td>\n",
       "      <td>/2024/04/06/what-weve-learned-from-the-women-b...</td>\n",
       "      <td>12:00 PM EDT August 29, 2023</td>\n",
       "      <td>['AI', 'newsletter', 'this week in AI', 'this ...</td>\n",
       "      <td>Other</td>\n",
       "      <td>2023-08-29 12:00:00</td>\n",
       "    </tr>\n",
       "    <tr>\n",
       "      <th>freq</th>\n",
       "      <td>1</td>\n",
       "      <td>5</td>\n",
       "      <td>1</td>\n",
       "      <td>11</td>\n",
       "      <td>8</td>\n",
       "      <td>538</td>\n",
       "      <td>11</td>\n",
       "    </tr>\n",
       "    <tr>\n",
       "      <th>first</th>\n",
       "      <td>NaN</td>\n",
       "      <td>NaN</td>\n",
       "      <td>NaN</td>\n",
       "      <td>NaN</td>\n",
       "      <td>NaN</td>\n",
       "      <td>NaN</td>\n",
       "      <td>2023-04-03 23:05:00</td>\n",
       "    </tr>\n",
       "    <tr>\n",
       "      <th>last</th>\n",
       "      <td>NaN</td>\n",
       "      <td>NaN</td>\n",
       "      <td>NaN</td>\n",
       "      <td>NaN</td>\n",
       "      <td>NaN</td>\n",
       "      <td>NaN</td>\n",
       "      <td>2024-04-06 14:05:00</td>\n",
       "    </tr>\n",
       "  </tbody>\n",
       "</table>\n",
       "</div>"
      ],
      "text/plain": [
       "                                                    Title  \\\n",
       "count                                                1005   \n",
       "unique                                               1005   \n",
       "top     What we’ve learned from the women behind the A...   \n",
       "freq                                                    1   \n",
       "first                                                 NaN   \n",
       "last                                                  NaN   \n",
       "\n",
       "                                                  Content  \\\n",
       "count                                                1005   \n",
       "unique                                                996   \n",
       "top     Keeping up with an industry as fast-moving as ...   \n",
       "freq                                                    5   \n",
       "first                                                 NaN   \n",
       "last                                                  NaN   \n",
       "\n",
       "                                                      URL  \\\n",
       "count                                                1005   \n",
       "unique                                               1005   \n",
       "top     /2024/04/06/what-weve-learned-from-the-women-b...   \n",
       "freq                                                    1   \n",
       "first                                                 NaN   \n",
       "last                                                  NaN   \n",
       "\n",
       "                                Date  \\\n",
       "count                           1005   \n",
       "unique                           927   \n",
       "top     12:00 PM EDT August 29, 2023   \n",
       "freq                              11   \n",
       "first                            NaN   \n",
       "last                             NaN   \n",
       "\n",
       "                                                     tags Industry  \\\n",
       "count                                                1005     1005   \n",
       "unique                                                975        7   \n",
       "top     ['AI', 'newsletter', 'this week in AI', 'this ...    Other   \n",
       "freq                                                    8      538   \n",
       "first                                                 NaN      NaN   \n",
       "last                                                  NaN      NaN   \n",
       "\n",
       "                   DateTime  \n",
       "count                  1005  \n",
       "unique                  927  \n",
       "top     2023-08-29 12:00:00  \n",
       "freq                     11  \n",
       "first   2023-04-03 23:05:00  \n",
       "last    2024-04-06 14:05:00  "
      ]
     },
     "execution_count": 14,
     "metadata": {},
     "output_type": "execute_result"
    }
   ],
   "source": [
    "df.describe(include='all')"
   ]
  },
  {
   "cell_type": "markdown",
   "id": "457dc609",
   "metadata": {},
   "source": [
    "## III. Method (Text Analysis/Sentiment Analysis)\n",
    "I then employ sentiment analysis to analyze the sentiment of TechCrunch articles within each industry, categorizing sentiments as positive, neutral, or negative towards AI within that industry."
   ]
  },
  {
   "cell_type": "markdown",
   "id": "9899d0b0",
   "metadata": {},
   "source": [
    "Next, I use my dataframe to track the number of AI mentions over time to identify the intensity of AI innovation within an industry. "
   ]
  },
  {
   "cell_type": "code",
   "execution_count": 19,
   "id": "496cad65",
   "metadata": {},
   "outputs": [],
   "source": [
    "import numpy as np\n",
    "import nltk\n",
    "from nltk.corpus import stopwords\n",
    "import pandas as pd\n",
    "import matplotlib.pyplot as plt\n",
    "from collections import Counter\n",
    "from itertools import chain\n",
    "from sklearn.feature_extraction.text import TfidfVectorizer\n",
    "from sklearn.metrics.pairwise import cosine_similarity\n",
    "from fuzzywuzzy import fuzz\n",
    "from sklearn.linear_model import LogisticRegression\n",
    "from transformers import pipeline"
   ]
  },
  {
   "cell_type": "markdown",
   "id": "1cf658c0",
   "metadata": {},
   "source": [
    "Use pre-trained Hugging Face model to assess sentiment of each article based on its summary/preview. Run on first few articles to test/check output."
   ]
  },
  {
   "cell_type": "code",
   "execution_count": 24,
   "id": "337d4ff5",
   "metadata": {},
   "outputs": [
    {
     "name": "stderr",
     "output_type": "stream",
     "text": [
      "No model was supplied, defaulted to distilbert-base-uncased-finetuned-sst-2-english and revision af0f99b (https://huggingface.co/distilbert-base-uncased-finetuned-sst-2-english).\n",
      "Using a pipeline without specifying a model name and revision in production is not recommended.\n"
     ]
    },
    {
     "name": "stdout",
     "output_type": "stream",
     "text": [
      "\n",
      "The AI boom, love it or find it to be a bit more hype than substance, is here to stay. That means lots of companies raising oodles of dollars, a healthy dose of regulatory concern, academic work, a...\n",
      "POSITIVE\n",
      "\n",
      "It was a notable appearance because Pichai’s been having a bit of a rough go lately. Google is widely perceived to have gotten a late start on generative AI.\n",
      "NEGATIVE\n",
      "\n",
      "Meta has announced changes to its rules on AI-generated content and manipulated media following criticism from its Oversight Board. Starting next month, the company said, it will label a wider rang...\n",
      "NEGATIVE\n",
      "\n",
      "Well-known startup accelerator Y Combinator held one of its two yearly Demo Day events this week, showcasing hundreds of startups that recently went through its program. Judging from our coverage o...\n",
      "POSITIVE\n",
      "\n",
      "Rubrik, the data management company that filed for IPO this week, has an AI governance committee, per its IPO filing. The detail is worth noting because it could soon be the new normal.\n",
      "POSITIVE\n",
      "\n",
      "Robovision has raised $42M to industrialize deep learning tools and make them more accessible to businesses that are not tech companies at their core.\n",
      "POSITIVE\n",
      "\n",
      "The European Union and United States put out a joint statement Friday affirming a desire to increase cooperation over artificial intelligence. The agreement covers AI safety and governance, but als...\n",
      "NEGATIVE\n",
      "\n",
      "OpenStack allows enterprises to manage their own AWS-like private clouds on-premises. Even after 29 releases, it’s still among the most active open source projects in the world and this week,...\n",
      "POSITIVE\n",
      "\n",
      "Agility Robotics on Thursday confirmed that it has laid off a “small number” of employees. The well-funded Oregon-based firm says the job loss is part of a company-wide focus on commercialization e...\n",
      "NEGATIVE\n",
      "\n",
      "If you build it, people will try to break it. Sometimes even the people building stuff are the ones breaking it. Such is the case with Anthropic and its latest research which demonstrates an intere...\n",
      "POSITIVE\n",
      "\n"
     ]
    }
   ],
   "source": [
    "# initialize sentiment analysis pipeline\n",
    "sentiment_pipeline = pipeline(\"sentiment-analysis\")\n",
    "\n",
    "print()\n",
    "for i in range(10):\n",
    "    print(df['Content'][0:10].tolist()[i])\n",
    "    print(sentiment_pipeline(df['Content'][0:10].tolist())[i]['label'])\n",
    "    print()\n"
   ]
  },
  {
   "cell_type": "markdown",
   "id": "47e3b344",
   "metadata": {},
   "source": [
    "Satisfied with this classifcation, I create a sentiment column in my df."
   ]
  },
  {
   "cell_type": "code",
   "execution_count": 30,
   "id": "2525b6ae",
   "metadata": {},
   "outputs": [],
   "source": [
    "sentiments = sentiment_pipeline(df['Content'].tolist())"
   ]
  },
  {
   "cell_type": "code",
   "execution_count": 33,
   "id": "eccb879a",
   "metadata": {},
   "outputs": [],
   "source": [
    "# Extracting the 'label' from each sentiment analysis result\n",
    "sentiment_labels = [sentiment['label'] for sentiment in sentiments]\n",
    "\n",
    "# Assigning the list of labels to a new column in the DataFrame\n",
    "df['Sentiment'] = sentiment_labels"
   ]
  },
  {
   "cell_type": "code",
   "execution_count": 34,
   "id": "dc2f3199",
   "metadata": {
    "scrolled": false
   },
   "outputs": [
    {
     "data": {
      "text/plain": [
       "0       POSITIVE\n",
       "1       NEGATIVE\n",
       "2       NEGATIVE\n",
       "3       POSITIVE\n",
       "4       POSITIVE\n",
       "          ...   \n",
       "1000    NEGATIVE\n",
       "1001    NEGATIVE\n",
       "1002    NEGATIVE\n",
       "1003    POSITIVE\n",
       "1004    POSITIVE\n",
       "Name: Sentiment, Length: 1005, dtype: object"
      ]
     },
     "execution_count": 34,
     "metadata": {},
     "output_type": "execute_result"
    }
   ],
   "source": [
    "df['Sentiment']"
   ]
  },
  {
   "cell_type": "code",
   "execution_count": 39,
   "id": "d56de322",
   "metadata": {},
   "outputs": [
    {
     "data": {
      "text/plain": [
       "count         1005\n",
       "unique           2\n",
       "top       POSITIVE\n",
       "freq           535\n",
       "Name: Sentiment, dtype: object"
      ]
     },
     "execution_count": 39,
     "metadata": {},
     "output_type": "execute_result"
    }
   ],
   "source": [
    "df['Sentiment'].describe()"
   ]
  },
  {
   "cell_type": "markdown",
   "id": "af965dfd",
   "metadata": {},
   "source": [
    "Next, I look at AI sentiment within each industry."
   ]
  },
  {
   "cell_type": "code",
   "execution_count": 42,
   "id": "df5309fc",
   "metadata": {},
   "outputs": [
    {
     "data": {
      "image/png": "[encoded data removed]",
      "text/plain": [
       "<Figure size 640x480 with 1 Axes>"
      ]
     },
     "metadata": {},
     "output_type": "display_data"
    }
   ],
   "source": [
    "histogram = df['Sentiment'].value_counts().reindex([\"NEGATIVE\", \"POSITIVE\"]).plot(kind='bar')\n",
    "plt.title(\"Sentiment Categories of TechCrunch Articles\")\n",
    "plt.xlabel(\"Sentiment Category\")\n",
    "plt.ylabel(\"Number of Articles\")\n",
    "plt.show()"
   ]
  },
  {
   "cell_type": "markdown",
   "id": "cad8d0bf",
   "metadata": {},
   "source": [
    "You can see that the data is pretty evenly divided among positive and negative articles."
   ]
  },
  {
   "cell_type": "code",
   "execution_count": 43,
   "id": "0362f7ad",
   "metadata": {},
   "outputs": [
    {
     "name": "stdout",
     "output_type": "stream",
     "text": [
      "Sentiment                     NEGATIVE  POSITIVE\n",
      "Industry                                        \n",
      "Education                           24        34\n",
      "Finance                             31        32\n",
      "Healthcare                           6        17\n",
      "Logistics and Transportation         4         4\n",
      "Media/Entertainment                 42        55\n",
      "Other                              252       286\n",
      "Technology                         111       107\n"
     ]
    }
   ],
   "source": [
    "sentiment_by_industry = df.groupby('Industry')['Sentiment'].value_counts().unstack().fillna(0)\n",
    "print(sentiment_by_industry)"
   ]
  },
  {
   "cell_type": "code",
   "execution_count": 53,
   "id": "a3d8cbd7",
   "metadata": {},
   "outputs": [
    {
     "data": {
      "image/png": "[encoded data removed]",
      "text/plain": [
       "<Figure size 1000x600 with 1 Axes>"
      ]
     },
     "metadata": {},
     "output_type": "display_data"
    }
   ],
   "source": [
    "sentiment_by_industry.plot(kind='bar', stacked=True, figsize=(10, 6))\n",
    "plt.title('Sentiment Analysis by Industry')\n",
    "plt.xlabel('Industry')\n",
    "plt.ylabel('Number of Articles')\n",
    "plt.xticks(rotation=45, ha='right')\n",
    "plt.legend(title='Sentiment')\n",
    "plt.show()"
   ]
  },
  {
   "cell_type": "markdown",
   "id": "b1182cda",
   "metadata": {},
   "source": [
    "It's harder to see the trends when \"Other\" is in the mix, so I remove it below."
   ]
  },
  {
   "cell_type": "code",
   "execution_count": 59,
   "id": "17e77503",
   "metadata": {},
   "outputs": [
    {
     "data": {
      "image/png": "[encoded data removed]",
      "text/plain": [
       "<Figure size 1000x600 with 1 Axes>"
      ]
     },
     "metadata": {},
     "output_type": "display_data"
    }
   ],
   "source": [
    "df_clean = sentiment_by_industry[sentiment_by_industry.index != 'Other']\n",
    "\n",
    "# Plotting the DataFrame without 'Other' industry\n",
    "df_clean.plot(kind='bar', stacked=True, figsize=(10, 6))\n",
    "plt.title(\"Sentiment Analysis by Industry (excluding 'Other')\")\n",
    "plt.xlabel(\"Industry\")\n",
    "plt.ylabel(\"Number of Articles\")\n",
    "plt.xticks(rotation=45)\n",
    "plt.tight_layout()\n",
    "plt.show()\n"
   ]
  }
 ],
 "metadata": {
  "colab": {
   "provenance": []
  },
  "kernelspec": {
   "display_name": "Python 3 (ipykernel)",
   "language": "python",
   "name": "python3"
  },
  "language_info": {
   "codemirror_mode": {
    "name": "ipython",
    "version": 3
   },
   "file_extension": ".py",
   "mimetype": "text/x-python",
   "name": "python",
   "nbconvert_exporter": "python",
   "pygments_lexer": "ipython3",
   "version": "3.11.4"
  }
 },
 "nbformat": 4,
 "nbformat_minor": 5
}
